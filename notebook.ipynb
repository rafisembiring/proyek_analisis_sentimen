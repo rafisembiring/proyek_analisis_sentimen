{
 "cells": [
  {
   "cell_type": "code",
   "execution_count": 19,
   "metadata": {},
   "outputs": [
    {
     "name": "stderr",
     "output_type": "stream",
     "text": [
      "[nltk_data] Downloading package stopwords to\n",
      "[nltk_data]     C:\\Users\\Rafi\\AppData\\Roaming\\nltk_data...\n",
      "[nltk_data]   Package stopwords is already up-to-date!\n"
     ]
    },
    {
     "data": {
      "text/plain": [
       "True"
      ]
     },
     "execution_count": 19,
     "metadata": {},
     "output_type": "execute_result"
    }
   ],
   "source": [
    "import pandas as pd\n",
    "import re\n",
    "import nltk\n",
    "from nltk.corpus import stopwords\n",
    "from Sastrawi.Stemmer.StemmerFactory import StemmerFactory\n",
    "from sklearn.model_selection import train_test_split\n",
    "from sklearn.feature_extraction.text import TfidfVectorizer\n",
    "from sklearn.linear_model import LogisticRegression\n",
    "from sklearn.metrics import classification_report, confusion_matrix, accuracy_score\n",
    "import seaborn as sns\n",
    "import matplotlib.pyplot as plt\n",
    "\n",
    "nltk.download('stopwords')"
   ]
  },
  {
   "cell_type": "code",
   "execution_count": 15,
   "metadata": {},
   "outputs": [
    {
     "name": "stdout",
     "output_type": "stream",
     "text": [
      "Contoh data awal:\n",
      "              user                                             review  rating\n",
      "0  Pengguna Google  aduhhh bahaya bngt aplikasi yng satu ini sakin...       5\n",
      "1  Pengguna Google  LUAR BIASA CS TOKOPEDIA TIDAK ADA RESPON BER J...       1\n",
      "2  Pengguna Google  Mungkin bisa hapus kerja sama dengan JNE karna...       4\n",
      "3  Pengguna Google  Baru coba di Tokopedia apa sama dg Shopi grati...       4\n",
      "4  Pengguna Google  ternyata aplikasi ini makin g jelas.g mampu me...       1\n"
     ]
    }
   ],
   "source": [
    "# Load dataset\n",
    "df = pd.read_csv(\"reviews_scraped.csv\")\n",
    "print(\"Contoh data awal:\")\n",
    "print(df.head(5))"
   ]
  },
  {
   "cell_type": "code",
   "execution_count": 16,
   "metadata": {},
   "outputs": [
    {
     "name": "stdout",
     "output_type": "stream",
     "text": [
      "\n",
      "Distribusi label setelah labeling otomatis:\n",
      "label\n",
      "positif    2181\n",
      "negatif    1565\n",
      "netral      254\n",
      "Name: count, dtype: int64\n"
     ]
    }
   ],
   "source": [
    "# 3. Labeling manual (contoh sementara)\n",
    "# Positif: rating >=4, Netral: rating == 3, Negatif: rating <=2\n",
    "def labeling(rating):\n",
    "    if rating >= 4:\n",
    "        return 'positif'\n",
    "    elif rating == 3:\n",
    "        return 'netral'\n",
    "    else:\n",
    "        return 'negatif'\n",
    "\n",
    "df['label'] = df['rating'].apply(labeling)\n",
    "print(\"\\nDistribusi label setelah labeling otomatis:\")\n",
    "print(df['label'].value_counts())"
   ]
  },
  {
   "cell_type": "code",
   "execution_count": 17,
   "metadata": {},
   "outputs": [
    {
     "name": "stdout",
     "output_type": "stream",
     "text": [
      "\n",
      "Contoh hasil preprocessing:\n",
      "                                              review  \\\n",
      "0  aduhhh bahaya bngt aplikasi yng satu ini sakin...   \n",
      "1  LUAR BIASA CS TOKOPEDIA TIDAK ADA RESPON BER J...   \n",
      "2  Mungkin bisa hapus kerja sama dengan JNE karna...   \n",
      "3  Baru coba di Tokopedia apa sama dg Shopi grati...   \n",
      "4  ternyata aplikasi ini makin g jelas.g mampu me...   \n",
      "\n",
      "                                        clean_review  \n",
      "0  aduhhh bahaya bngt aplikasi yng saking bagus n...  \n",
      "1  cs tokopedia respon ber jam balas bohong aqila...  \n",
      "2  hapus kerja jne karna telat ngirim paket gak k...  \n",
      "3  coba tokopedia dg shopi gratis ongkirnya reels...  \n",
      "4  aplikasi g jelasg kerja custemer services manu...  \n"
     ]
    }
   ],
   "source": [
    "# 4. Preprocessing\n",
    "stop_words = set(stopwords.words('indonesian'))\n",
    "factory = StemmerFactory()\n",
    "stemmer = factory.create_stemmer()\n",
    "\n",
    "def clean_text(text):\n",
    "    text = text.lower()\n",
    "    text = re.sub(r'http\\S+', '', text) # remove URL\n",
    "    text = re.sub(r'[^a-zA-Z\\s]', '', text) # remove special characters\n",
    "    text = re.sub(r'\\s+', ' ', text).strip() # remove multiple spaces\n",
    "    tokens = text.split()\n",
    "    tokens = [stemmer.stem(word) for word in tokens if word not in stop_words]\n",
    "    return ' '.join(tokens)\n",
    "\n",
    "df['clean_review'] = df['review'].apply(clean_text)\n",
    "print('\\nContoh hasil preprocessing:')\n",
    "print(df[['review', 'clean_review']].head(5))"
   ]
  },
  {
   "cell_type": "code",
   "execution_count": 20,
   "metadata": {},
   "outputs": [
    {
     "data": {
      "image/png": "[encoded data removed]",
      "text/plain": [
       "<Figure size 640x480 with 1 Axes>"
      ]
     },
     "metadata": {},
     "output_type": "display_data"
    }
   ],
   "source": [
    "# 5. Visualisasi distribusi label\n",
    "sns.countplot(x='label', data=df)\n",
    "plt.title('Distribusi Sentimen')\n",
    "plt.show()"
   ]
  },
  {
   "cell_type": "code",
   "execution_count": 21,
   "metadata": {},
   "outputs": [
    {
     "name": "stdout",
     "output_type": "stream",
     "text": [
      "\n",
      "Shape hasil TF-IDF:\n",
      "(4000, 5000)\n"
     ]
    }
   ],
   "source": [
    "# 6. Vectorization\n",
    "tfidf = TfidfVectorizer(ngram_range=(1,2), max_features=5000)\n",
    "X = tfidf.fit_transform(df['clean_review'])\n",
    "y = df['label']\n",
    "\n",
    "print(\"\\nShape hasil TF-IDF:\")\n",
    "print(X.shape)"
   ]
  },
  {
   "cell_type": "code",
   "execution_count": 23,
   "metadata": {},
   "outputs": [
    {
     "name": "stdout",
     "output_type": "stream",
     "text": [
      "\n",
      "Train size: 3200  | Test size: 800\n"
     ]
    }
   ],
   "source": [
    "# 7. Train-test split\n",
    "X_train, X_test, y_train, y_test = train_test_split(X, y, test_size=0.2, random_state=42)\n",
    "\n",
    "print(\"\\nTrain size:\", X_train.shape[0],\" | Test size:\", X_test.shape[0])"
   ]
  },
  {
   "cell_type": "code",
   "execution_count": 24,
   "metadata": {},
   "outputs": [
    {
     "name": "stdout",
     "output_type": "stream",
     "text": [
      "\n",
      "Model berhasil dilatih!\n"
     ]
    }
   ],
   "source": [
    "# 8. Training model (Logistic Regression)\n",
    "model = LogisticRegression(max_iter=1000)\n",
    "model.fit(X_train, y_train)\n",
    "\n",
    "print(\"\\nModel berhasil dilatih!\")"
   ]
  },
  {
   "cell_type": "code",
   "execution_count": 25,
   "metadata": {},
   "outputs": [
    {
     "name": "stdout",
     "output_type": "stream",
     "text": [
      "\n",
      "Accuracy: 0.81625\n",
      "\n",
      "Confusion matrix:\n",
      "[[266   0  46]\n",
      " [ 37   0  12]\n",
      " [ 52   0 387]]\n",
      "\n",
      "Classification report:\n",
      "              precision    recall  f1-score   support\n",
      "\n",
      "     negatif       0.75      0.85      0.80       312\n",
      "      netral       0.00      0.00      0.00        49\n",
      "     positif       0.87      0.88      0.88       439\n",
      "\n",
      "    accuracy                           0.82       800\n",
      "   macro avg       0.54      0.58      0.56       800\n",
      "weighted avg       0.77      0.82      0.79       800\n",
      "\n"
     ]
    },
    {
     "name": "stderr",
     "output_type": "stream",
     "text": [
      "c:\\Users\\Rafi\\anaconda3\\Lib\\site-packages\\sklearn\\metrics\\_classification.py:1531: UndefinedMetricWarning: Precision is ill-defined and being set to 0.0 in labels with no predicted samples. Use `zero_division` parameter to control this behavior.\n",
      "  _warn_prf(average, modifier, f\"{metric.capitalize()} is\", len(result))\n",
      "c:\\Users\\Rafi\\anaconda3\\Lib\\site-packages\\sklearn\\metrics\\_classification.py:1531: UndefinedMetricWarning: Precision is ill-defined and being set to 0.0 in labels with no predicted samples. Use `zero_division` parameter to control this behavior.\n",
      "  _warn_prf(average, modifier, f\"{metric.capitalize()} is\", len(result))\n",
      "c:\\Users\\Rafi\\anaconda3\\Lib\\site-packages\\sklearn\\metrics\\_classification.py:1531: UndefinedMetricWarning: Precision is ill-defined and being set to 0.0 in labels with no predicted samples. Use `zero_division` parameter to control this behavior.\n",
      "  _warn_prf(average, modifier, f\"{metric.capitalize()} is\", len(result))\n"
     ]
    }
   ],
   "source": [
    "# 9. Evaluation\n",
    "y_pred = model.predict(X_test)\n",
    "print(\"\\nAccuracy:\", accuracy_score(y_test, y_pred))\n",
    "print(\"\\nConfusion matrix:\")\n",
    "print(confusion_matrix(y_test, y_pred))\n",
    "print(\"\\nClassification report:\")\n",
    "print(classification_report(y_test, y_pred))"
   ]
  },
  {
   "cell_type": "code",
   "execution_count": 26,
   "metadata": {},
   "outputs": [
    {
     "data": {
      "image/png": "[encoded data removed]",
      "text/plain": [
       "<Figure size 640x480 with 2 Axes>"
      ]
     },
     "metadata": {},
     "output_type": "display_data"
    }
   ],
   "source": [
    "# 10. Visualisasi Confusion Matrix\n",
    "sns.heatmap(confusion_matrix(y_test, y_pred), annot=True, fmt='d', cmap='Blues')\n",
    "plt.xlabel(\"Predicted\")\n",
    "plt.ylabel(\"Actual\")\n",
    "plt.title(\"Confusion Matrix Logistic Regression\")\n",
    "plt.show()"
   ]
  }
 ],
 "metadata": {
  "kernelspec": {
   "display_name": "base",
   "language": "python",
   "name": "python3"
  },
  "language_info": {
   "codemirror_mode": {
    "name": "ipython",
    "version": 3
   },
   "file_extension": ".py",
   "mimetype": "text/x-python",
   "name": "python",
   "nbconvert_exporter": "python",
   "pygments_lexer": "ipython3",
   "version": "3.12.3"
  }
 },
 "nbformat": 4,
 "nbformat_minor": 2
}
